{
 "cells": [
  {
   "cell_type": "markdown",
   "metadata": {},
   "source": [
    "# [DEMI](https://arxiv.org/pdf/2010.01766.pdf) for estimating mutual information (20-d Gaussian)\n",
    "\n",
    "We demo [DEMI](https://arxiv.org/pdf/2010.01766.pdf) for estimating mutual information between two 20-d Gaussian variables $x$ and $y$.\n",
    "\n",
    "In our development, we will find it convenient to define a Bernoulli random variable  $z\\in\\{0,1\\}$ and to \"lift\" the distribution $p(x,y)$ to the product space $\\mathcal{X}\\times\\mathcal{Y}\\times\\{0,1\\}$. We thus define a family of distributions parametrized by $\\alpha\\in(0,1)$ as follows:\n",
    "\\begin{align}\n",
    "p_*(x,y|z=1;\\alpha) &= p(x,y), \\\\\n",
    "p_*(x,y|z=0;\\alpha) &= p(x)p(y),\\\\\n",
    "p_*(z=1;\\alpha) &= 1-p_*(z=0;\\alpha)=\\alpha.\n",
    "\\end{align}\n",
    "\n",
    "It implies the mutual information between $x$ and $y$ can be expressed as:\n",
    "\\begin{align}\n",
    "    \\hat{I}_{p}(x,y)\n",
    "    &=\n",
    "    \\frac{1}{n} \\sum_{i=1}^n \\log \n",
    "    \\frac{p_*(z_i = 1 | x_i , y_i )}{p_*(z_i = 0 | x_i , y_i )} \n",
    "    - \\log \\frac{\\alpha}{1-\\alpha} \\\\\n",
    "    &=\\frac{1}{n} \\sum_{i=1}^n \\text{logit}\\left[p_*(z_i = 1 | x_i , y_i )\\right] \n",
    "    -\\text{logit}[\\alpha],\n",
    "\\end{align}\n",
    "\n",
    "where $\\text{logit}[u]\\stackrel{\\Delta}{=}\\log\\,\\frac{u}{1-u}$ is the log-odds function.\n",
    "\n",
    "Our key idea is to approximate the latent posterior distribution $p_*(z=1|x,y)$ by a classifier that is trained to distinguish between the joint distribution $p(x,y)$ and the product distribution $p(x)p(y)$."
   ]
  },
  {
   "cell_type": "markdown",
   "metadata": {},
   "source": [
    "## Define hyper-parameters and training device\n",
    "\n",
    "We demo DEMI on 4 pairs of 20-d Gaussian variables, \n",
    "whose mutual information values are 0.1, 15, 25, 40, respectively.\n",
    "\n",
    "We generate 160K samples from each Gaussian variable as the training set for DEMI, and 10K samples as the test set for DEMI to estimate mutual information.\n"
   ]
  },
  {
   "cell_type": "code",
   "execution_count": 1,
   "metadata": {
    "collapsed": true
   },
   "outputs": [],
   "source": [
    "gaussian_length = 20\n",
    "n_train = 300000\n",
    "n_test = 10000"
   ]
  },
  {
   "cell_type": "code",
   "execution_count": 2,
   "metadata": {
    "collapsed": true
   },
   "outputs": [],
   "source": [
    "import torch\n",
    "\n",
    "assert torch.cuda.is_available(), \"No GPU/CUDA is detected!\"\n",
    "device = torch.device(\"cuda\" if torch.cuda.is_available() else \"cpu\")"
   ]
  },
  {
   "cell_type": "markdown",
   "metadata": {},
   "source": [
    "## Generate Gaussian samples"
   ]
  },
  {
   "cell_type": "code",
   "execution_count": 3,
   "metadata": {},
   "outputs": [],
   "source": [
    "import os\n",
    "import numpy as np\n",
    "\n",
    "from gaussian_sampler import generate_gaussian_samples, mi_to_rho\n",
    "\n",
    "n=1\n",
    "data_dir = os.path.join('./data', 'gaussian_samples_'+str(n))\n",
    "while os.path.isdir(data_dir):\n",
    "    n+=1\n",
    "    data_dir = os.path.join('./data', 'gaussian_samples_'+str(n))\n",
    "os.makedirs(data_dir)\n",
    "sample_set = 'gaussian_samples_'+str(n)\n",
    "\n",
    "data_x_train = {}\n",
    "data_y_train = {}\n",
    "\n",
    "data_x_test = {}\n",
    "data_y_test = {}\n",
    "\n",
    "for mi in [0.1, 5., 10., 15., 20., 25.]:\n",
    "    rho = mi_to_rho(gaussian_length, mi)\n",
    "\n",
    "    _, _, samples_joint_xy, _ = generate_gaussian_samples(gaussian_length, rho, n_train)\n",
    "    samples_x = samples_joint_xy[:, :gaussian_length]\n",
    "    samples_y = samples_joint_xy[:, gaussian_length:]\n",
    "    data_x_train[str(mi)] = samples_x\n",
    "    data_y_train[str(mi)] = samples_y\n",
    "    np.save(os.path.join(data_dir, 'samples_x_mi{:.1f}_train'.format(mi)), samples_x)\n",
    "    np.save(os.path.join(data_dir, 'samples_y_mi{:.1f}_train'.format(mi)), samples_y)\n",
    "\n",
    "    _, _, samples_joint_xy, _ = generate_gaussian_samples(gaussian_length, rho, n_test)\n",
    "    samples_x = samples_joint_xy[:, :gaussian_length]\n",
    "    samples_y = samples_joint_xy[:, gaussian_length:]\n",
    "    data_x_test[str(mi)] = samples_x\n",
    "    data_y_test[str(mi)] = samples_y\n",
    "    np.save(os.path.join(data_dir, 'samples_x_mi{:.1f}_test'.format(mi)), samples_x)\n",
    "    np.save(os.path.join(data_dir, 'samples_y_mi{:.1f}_test'.format(mi)), samples_y)"
   ]
  },
  {
   "cell_type": "markdown",
   "metadata": {},
   "source": [
    "## Visualize the training sets\n",
    "\n",
    "We visualize the 4 sets of Gaussian sample pairs that are drawn from 4 pairs of 20-d Gaussian variables respectively."
   ]
  },
  {
   "cell_type": "code",
   "execution_count": 4,
   "metadata": {},
   "outputs": [
    {
     "name": "stdout",
     "output_type": "stream",
     "text": [
      "Number of training samples: 300000\n",
      "Dimension of the Gaussian variable x: 20\n",
      "Dimension of the Gaussian variable y: 20\n"
     ]
    }
   ],
   "source": [
    "import os\n",
    "import numpy as np\n",
    "\n",
    "# samples_x = np.load(os.path.join(data_dir, 'samples_x_mi0.1_train.npy'))\n",
    "# samples_y = np.load(os.path.join(data_dir, 'samples_y_mi0.1_train.npy'))\n",
    "\n",
    "samples_x = data_x_train['0.1']\n",
    "samples_y = data_y_train['0.1']\n",
    "\n",
    "num_train_samples = samples_x.shape[0]\n",
    "dim_x = samples_x.shape[1]\n",
    "dim_y = samples_y.shape[1]\n",
    "\n",
    "print('Number of training samples: {}'.format(num_train_samples))\n",
    "print('Dimension of the Gaussian variable x: {}'.format(dim_x))\n",
    "print('Dimension of the Gaussian variable y: {}'.format(dim_y))"
   ]
  },
  {
   "cell_type": "code",
   "execution_count": 5,
   "metadata": {},
   "outputs": [
    {
     "data": {
      "image/png": "[encoded data removed]",
      "text/plain": [
       "<matplotlib.figure.Figure at 0x7fc5bd6cfc88>"
      ]
     },
     "metadata": {},
     "output_type": "display_data"
    }
   ],
   "source": [
    "import matplotlib.pyplot as plt\n",
    "\n",
    "fig, axes = plt.subplots(2, 3, figsize=(16,10), sharex=True, sharey=True)\n",
    "\n",
    "j=0\n",
    "for mi in [0.1, 5., 10., 15., 20., 25.]:\n",
    "#     samples_x = np.load(os.path.join(data_dir, 'samples_x_mi{:.1f}_train.npy'.format(mi)))\n",
    "#     samples_y = np.load(os.path.join(data_dir, 'samples_y_mi{:.1f}_train.npy'.format(mi)))\n",
    "   \n",
    "    samples_x = data_x_train[str(mi)]\n",
    "    samples_y = data_y_train[str(mi)]\n",
    "\n",
    "    samples_d1_x = samples_x[:,0]\n",
    "    samples_d1_y = samples_y[:,0]\n",
    "\n",
    "    axes[int((j-j%3)/2),int(j%3)].scatter(samples_d1_x, samples_d1_y)\n",
    "    axes[int((j-j%3)/2),int(j%3)].set_xlabel('The first dimension of x')\n",
    "    axes[int((j-j%3)/2),int(j%3)].set_ylabel('The first dimension of y')\n",
    "    axes[int((j-j%3)/2),int(j%3)].set_title('MI(x,y)={:.1f}'.format(mi))\n",
    "    \n",
    "    j+=1\n",
    "\n",
    "plt.show()"
   ]
  },
  {
   "cell_type": "markdown",
   "metadata": {},
   "source": [
    "## Train the DEMI classifier\n",
    "\n",
    "To approximate the latent posterior distribution $p_*(z=1|x,y)$, we train a classifier $q(z=1|x,y;\\theta,\\mathcal{T})$ parameterized by $\\theta$ and derived from the training set $\\mathcal{T}$. \n",
    "\n",
    "If $q(z=1|x,y;\\theta,\\mathcal{T})$ accurately approximates the posterior distribution $p_*(z=1|x,y;\\alpha)$, then we can use this classifier~$q$ instead of $p_*(z=1|x,y;\\alpha)$ to estimate MI.\n",
    "\n",
    "We follow the widely used maximum likelihood approach to estimating the classifier's parameters $\\theta$ and form the cross-entropy loss function \n",
    "\n",
    "\\begin{align}\n",
    "\\ell(\\theta;\\mathcal{T}) \n",
    "&= - \\frac{1}{m} \\sum_{j=1}^{m} \\log q(z^j|x^j,y^j;\\theta,\\mathcal{T}) \\\\\n",
    "&= - \\frac{1}{m} \\sum_{j=1}^{m} z^j \\log q(z^j=1|x^j,y^j;\\theta,\\mathcal{T})+(1-z^j) \\log (1-q(z^j=1|x^j,y^j;\\theta,\\mathcal{T})  )\n",
    "\\end{align}\n",
    "\n",
    "to be minimized to determine the optimal value of parameters $\\hat{\\theta}$."
   ]
  },
  {
   "cell_type": "code",
   "execution_count": 6,
   "metadata": {
    "collapsed": true
   },
   "outputs": [],
   "source": [
    "from torch.nn import BCEWithLogitsLoss\n",
    "from torch.optim import Adam, lr_scheduler\n",
    "\n",
    "from utils import permute_samples, cat_samples\n",
    "\n",
    "def train(demi_discriminator, train_dataloader, num_train_epochs, learning_rate, output_dir):\n",
    "    param_optimizer = list(demi_discriminator.named_parameters())\n",
    "    optimizer_parameters = demi_discriminator.parameters()\n",
    "    optimizer = Adam(optimizer_parameters, lr=learning_rate)\n",
    "    \n",
    "    scheduler = lr_scheduler.MultiStepLR(optimizer, \n",
    "                                         milestones=[int(num_train_epochs/3),int(num_train_epochs*2/3)],\n",
    "                                         gamma=0.5)\n",
    "\n",
    "    BCE_loss_criterion = BCEWithLogitsLoss()\n",
    "\n",
    "    demi_discriminator.train()\n",
    "    for epoch in range(num_train_epochs):\n",
    "        tr_epoch_loss = 0.0\n",
    "        for step, batch in enumerate(train_dataloader):\n",
    "            optimizer.zero_grad()\n",
    "\n",
    "            batch = tuple(t.to(device=device, non_blocking=True) for t in batch)\n",
    "            x_samples, y_samples = batch\n",
    "\n",
    "            permuted_x_samples, permuted_y_samples = permute_samples(x_samples, y_samples)\n",
    "            new_x_samples, new_y_samples, batch_labels = cat_samples(x_samples, y_samples,\n",
    "                                                                     permuted_x_samples, permuted_y_samples)\n",
    "\n",
    "            discriminator_input = torch.cat((new_x_samples, new_y_samples), 1)\n",
    "\n",
    "            discriminator_logits = demi_discriminator(discriminator_input)\n",
    "            loss = BCE_loss_criterion(discriminator_logits, batch_labels)\n",
    "            loss.backward()\n",
    "            optimizer.step()\n",
    "\n",
    "            tr_epoch_loss += loss.item()\n",
    "        scheduler.step()\n",
    "\n",
    "    checkpoint_dir = os.path.join(output_dir, 'checkpoint-{}'.format(epoch+1))\n",
    "    if not os.path.exists(checkpoint_dir):\n",
    "        os.makedirs(checkpoint_dir)\n",
    "    demi_discriminator.save_pretrained(checkpoint_dir)\n",
    "    \n",
    "    return checkpoint_dir, tr_epoch_loss"
   ]
  },
  {
   "cell_type": "code",
   "execution_count": 7,
   "metadata": {},
   "outputs": [
    {
     "name": "stdout",
     "output_type": "stream",
     "text": [
      "**Starting DEMI classifier training**\n",
      "**Finished DEMI classifier training**\n",
      "Final epoch training loss: 3113.077821314335\n",
      "Final checkpoint path: ./output/gaussian_samples_14/20d_0.1/checkpoint-20\n",
      "**Starting DEMI classifier training**\n",
      "**Finished DEMI classifier training**\n",
      "Final epoch training loss: 486.2001621630043\n",
      "Final checkpoint path: ./output/gaussian_samples_14/20d_5.0/checkpoint-20\n",
      "**Starting DEMI classifier training**\n",
      "**Finished DEMI classifier training**\n",
      "Final epoch training loss: 52.21059569859062\n",
      "Final checkpoint path: ./output/gaussian_samples_14/20d_10.0/checkpoint-20\n",
      "**Starting DEMI classifier training**\n",
      "**Finished DEMI classifier training**\n",
      "Final epoch training loss: 5.422713233596966\n",
      "Final checkpoint path: ./output/gaussian_samples_14/20d_15.0/checkpoint-20\n",
      "**Starting DEMI classifier training**\n",
      "**Finished DEMI classifier training**\n",
      "Final epoch training loss: 1.3664544281711357\n",
      "Final checkpoint path: ./output/gaussian_samples_14/20d_20.0/checkpoint-20\n",
      "**Starting DEMI classifier training**\n",
      "**Finished DEMI classifier training**\n",
      "Final epoch training loss: 0.3708756051828197\n",
      "Final checkpoint path: ./output/gaussian_samples_14/20d_25.0/checkpoint-20\n"
     ]
    }
   ],
   "source": [
    "from torch.utils.data import DataLoader\n",
    "\n",
    "from discriminator import Discriminator\n",
    "from utils import load_and_cache_examples, GaussianSampleDataset\n",
    "\n",
    "mlp_hidden_dims = [256,256]\n",
    "learning_rate = 2e-3\n",
    "num_train_epochs=20\n",
    "\n",
    "for mi in [0.1, 5., 10., 15., 20., 25.]:\n",
    "#     x_samples_path = os.path.join(data_dir, 'samples_x_mi{:.1f}_train.npy'.format(mi))\n",
    "#     y_samples_path = os.path.join(data_dir, 'samples_y_mi{:.1f}_train.npy'.format(mi))\n",
    "\n",
    "#     train_dataset = load_and_cache_examples(x_samples_path, y_samples_path)\n",
    "    \n",
    "    print('**Starting DEMI classifier training**')\n",
    "    \n",
    "    samples_x = data_x_train[str(mi)]\n",
    "    samples_y = data_y_train[str(mi)]\n",
    "    train_dataset = GaussianSampleDataset(samples_x,\n",
    "                                          samples_y)\n",
    "    train_dataloader = DataLoader(train_dataset, shuffle=True,\n",
    "                                  batch_size=64, num_workers=8,\n",
    "                                  pin_memory=True)\n",
    "\n",
    "    output_dir = './output/'+sample_set+'/{:d}d_{:.1f}/'.format(gaussian_length, mi)\n",
    "    directories = [output_dir]\n",
    "    for directory in directories:\n",
    "        if not(os.path.exists(directory)):\n",
    "            os.makedirs(directory)\n",
    "\n",
    "    demi_discriminator = Discriminator(sample_length=gaussian_length,\n",
    "                                       hidden_dims=mlp_hidden_dims)\n",
    "    demi_discriminator.to(device)\n",
    "\n",
    "    checkpoint_dir, tr_loss = train(demi_discriminator, train_dataloader, \n",
    "                                    num_train_epochs, learning_rate, output_dir)\n",
    "    print('**Finished DEMI classifier training**')\n",
    "    print('Final epoch training loss: {}'.format(tr_loss))\n",
    "    print('Final checkpoint path: {}'.format(checkpoint_dir))"
   ]
  },
  {
   "cell_type": "markdown",
   "metadata": {},
   "source": [
    "# Test DEMI on mutual information estimation (20-d Gaussian) "
   ]
  },
  {
   "cell_type": "code",
   "execution_count": 8,
   "metadata": {
    "collapsed": true
   },
   "outputs": [],
   "source": [
    "from utils import reshape_samples\n",
    "\n",
    "def demi_estimator(demi_discriminator, test_dataloader):\n",
    "    mi_ratios = []\n",
    "    for step, batch in enumerate(test_dataloader):\n",
    "        batch = tuple(t.to(device=device, non_blocking=True) for t in batch)\n",
    "        x_samples, y_samples = batch\n",
    "        x_samples, y_samples = reshape_samples(x_samples, y_samples)\n",
    "        discriminator_input = torch.cat((x_samples, y_samples), 1)\n",
    "\n",
    "        output = demi_discriminator(discriminator_input)\n",
    "        output_logits = output.detach().cpu().numpy()\n",
    "\n",
    "        for i in output_logits.flatten():\n",
    "            mi_ratios.append(float(i))\n",
    "\n",
    "    mi_estimate = np.mean(mi_ratios)\n",
    "\n",
    "    return mi_estimate"
   ]
  },
  {
   "cell_type": "code",
   "execution_count": 9,
   "metadata": {},
   "outputs": [],
   "source": [
    "mi_true = []\n",
    "mi_estimates = []\n",
    "for mi in [0.1, 5., 10., 15., 20., 25.]:\n",
    "#     x_samples_path = os.path.join(data_dir, 'samples_x_mi{:.1f}_test.npy'.format(mi))\n",
    "#     y_samples_path = os.path.join(data_dir, 'samples_y_mi{:.1f}_test.npy'.format(mi))\n",
    "\n",
    "#     test_dataset = load_and_cache_examples(x_samples_path, y_samples_path)\n",
    "   \n",
    "    samples_x = data_x_test[str(mi)]\n",
    "    samples_y = data_y_test[str(mi)]\n",
    "    test_dataset = GaussianSampleDataset(samples_x,\n",
    "                                          samples_y)\n",
    "    test_dataloader = DataLoader(test_dataset, shuffle=True,\n",
    "                                 batch_size=64, num_workers=8,\n",
    "                                 pin_memory=True)\n",
    "\n",
    "    output_dir = './output/'+sample_set+'/{:d}d_{:.1f}/'.format(gaussian_length, mi)\n",
    "    checkpoint_dir = os.path.join(output_dir, 'checkpoint-{}'.format(num_train_epochs))\n",
    "\n",
    "    demi_discriminator = Discriminator.from_pretrained(checkpoint_dir,\n",
    "                                                       sample_length=gaussian_length,\n",
    "                                                       hidden_dims=mlp_hidden_dims)\n",
    "    demi_discriminator.to(device)\n",
    "    \n",
    "    mi_estimates.append(demi_estimator(demi_discriminator, test_dataloader))\n",
    "    mi_true.append(mi)"
   ]
  },
  {
   "cell_type": "code",
   "execution_count": 10,
   "metadata": {},
   "outputs": [
    {
     "data": {
      "image/png": "[encoded data removed]",
      "text/plain": [
       "<matplotlib.figure.Figure at 0x7fc5bd6cdc88>"
      ]
     },
     "metadata": {},
     "output_type": "display_data"
    }
   ],
   "source": [
    "plt.figure(figsize=(5.3,5))\n",
    "diagnoal1 = [0, 30]\n",
    "diagnoal2 = [0, 30]\n",
    "plt.plot(diagnoal1, diagnoal2, '--')\n",
    "\n",
    "plt.errorbar(mi_true, mi_estimates, capsize=3, color='b', marker='o')\n",
    "plt.title('MI estimates between 20-d Gaussian variables')\n",
    "plt.xlabel('True mutual information')\n",
    "plt.ylabel('Estimated mutual information')\n",
    "plt.show()\n"
   ]
  },
  {
   "cell_type": "code",
   "execution_count": null,
   "metadata": {
    "collapsed": true
   },
   "outputs": [],
   "source": []
  }
 ],
 "metadata": {
  "kernelspec": {
   "display_name": "Python 3",
   "language": "python",
   "name": "python3"
  },
  "language_info": {
   "codemirror_mode": {
    "name": "ipython",
    "version": 3
   },
   "file_extension": ".py",
   "mimetype": "text/x-python",
   "name": "python",
   "nbconvert_exporter": "python",
   "pygments_lexer": "ipython3",
   "version": "3.6.2"
  }
 },
 "nbformat": 4,
 "nbformat_minor": 2
}
